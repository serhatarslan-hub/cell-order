{
 "cells": [
  {
   "cell_type": "code",
   "execution_count": 1,
   "metadata": {},
   "outputs": [],
   "source": [
    "import os\n",
    "import matplotlib.pyplot as plt\n",
    "\n",
    "import matplotlib\n",
    "matplotlib.rcParams['pdf.fonttype'] = 42\n",
    "matplotlib.rcParams['ps.fonttype'] = 42"
   ]
  },
  {
   "cell_type": "code",
   "execution_count": 2,
   "metadata": {},
   "outputs": [],
   "source": [
    "FIG_SIZE = (8,3)\n",
    "FONT_SIZE = 16\n",
    "LINE_STYLE = (0,(4,4))\n",
    "LINE_WIDTH = 3.5\n",
    "SAVE_FIG = False"
   ]
  },
  {
   "cell_type": "code",
   "execution_count": 3,
   "metadata": {},
   "outputs": [],
   "source": [
    "RESERVATION = 'RES130870'\n",
    "if (SAVE_FIG):\n",
    "    reservation_out_dir = '../outputs/' + RESERVATION + '/'\n",
    "    if (not os.path.exists(reservation_out_dir)):\n",
    "        os.mkdir(reservation_out_dir)"
   ]
  },
  {
   "cell_type": "code",
   "execution_count": 4,
   "metadata": {},
   "outputs": [],
   "source": [
    "sla_periods = ['10', '30', '60']\n",
    "sla_periods_over_budget = [13, 11, 10]\n",
    "sla_periods_within_budget = [66, 84, 90]\n",
    "sla_periods_under_budget = [21, 5, 0]\n",
    "\n",
    "realloc_periods = ['0.25', '0.5', '1', '2']\n",
    "realloc_periods_over_budget = [0, 0, 11, 20]\n",
    "realloc_periods_within_budget = [95, 85, 84, 75]\n",
    "realloc_periods_under_budget = [5, 15, 5, 5]"
   ]
  },
  {
   "cell_type": "code",
   "execution_count": 5,
   "metadata": {},
   "outputs": [
    {
     "data": {
      "image/png": "[encoded data removed]",
      "text/plain": [
       "<Figure size 576x216 with 3 Axes>"
      ]
     },
     "metadata": {
      "needs_background": "light"
     },
     "output_type": "display_data"
    }
   ],
   "source": [
    "#@title\n",
    "f, (a0, dummy, a1) = plt.subplots(1, 3, figsize=FIG_SIZE, \n",
    "                           gridspec_kw={'width_ratios': [3, 0.02, 4]}, sharey=True)\n",
    "\n",
    "a0.bar(sla_periods, sla_periods_under_budget, color='orange', hatch='/')\n",
    "a0.bar(sla_periods, sla_periods_within_budget, bottom=sla_periods_under_budget, \n",
    "       color='C2')\n",
    "a0.bar(sla_periods, sla_periods_over_budget, \n",
    "       bottom=[i+j for i,j in zip(sla_periods_under_budget, sla_periods_within_budget)], \n",
    "       color='C3', hatch='\\\\')\n",
    "\n",
    "a0.set_xlabel('SLA Periods (sec)', fontsize=FONT_SIZE)\n",
    "for label in (a0.get_xticklabels()): \n",
    "  label.set_fontsize(FONT_SIZE)\n",
    "a0.set_ylabel('SLA Satisfaction Rate (%)', fontsize=FONT_SIZE)\n",
    "for label in (a0.get_yticklabels()): \n",
    "  label.set_fontsize(FONT_SIZE-2)\n",
    "a0.set_axisbelow(True)\n",
    "a0.grid(axis='y', alpha=0.75, linestyle=LINE_STYLE)\n",
    "a0.spines['top'].set_visible(False)\n",
    "a0.spines['right'].set_visible(False)\n",
    "\n",
    "a1.bar(realloc_periods, realloc_periods_under_budget, \n",
    "       color='orange', label='Under Budget', hatch='/')\n",
    "a1.bar(realloc_periods, realloc_periods_within_budget, \n",
    "       bottom=realloc_periods_under_budget, color='C2', label='Within Budget')\n",
    "a1.bar(realloc_periods, realloc_periods_over_budget, \n",
    "       bottom=[i+j for i,j in zip(realloc_periods_under_budget, realloc_periods_within_budget)], \n",
    "       color='C3', hatch='\\\\', label='Above Budget')\n",
    "a1.set_xlabel('Reallocation Periods (sec)', fontsize=FONT_SIZE)\n",
    "for label in (a1.get_xticklabels()): \n",
    "  label.set_fontsize(FONT_SIZE)\n",
    "a1.set_axisbelow(True)\n",
    "a1.grid(axis='y', alpha=0.75, linestyle=LINE_STYLE)\n",
    "# a1.spines['left'].set_visible(False)\n",
    "a1.spines['top'].set_visible(False)\n",
    "a1.spines['right'].set_visible(False)\n",
    "\n",
    "a0.spines[\"right\"].set_linestyle(LINE_STYLE)\n",
    "a0.spines[\"right\"].set_alpha(0.75)\n",
    "a0.spines[\"right\"].set_color('gray')\n",
    "a0.spines[\"left\"].set_linestyle(LINE_STYLE)\n",
    "a0.spines[\"left\"].set_alpha(0.75)\n",
    "a0.spines[\"left\"].set_color('gray')\n",
    "a0.spines[\"top\"].set_linestyle(LINE_STYLE)\n",
    "a0.spines[\"top\"].set_alpha(0.75)\n",
    "a0.spines[\"top\"].set_color('gray')\n",
    "a0.spines[\"bottom\"].set_linestyle(LINE_STYLE)\n",
    "a0.spines[\"bottom\"].set_alpha(0.75)\n",
    "a0.spines[\"bottom\"].set_color('gray')\n",
    "a1.spines[\"right\"].set_linestyle(LINE_STYLE)\n",
    "a1.spines[\"right\"].set_alpha(0.75)\n",
    "a1.spines[\"right\"].set_color('gray')\n",
    "a1.spines[\"left\"].set_linestyle(LINE_STYLE)\n",
    "a1.spines[\"left\"].set_alpha(0.75)\n",
    "a1.spines[\"left\"].set_color('gray')\n",
    "a1.spines[\"top\"].set_linestyle(LINE_STYLE)\n",
    "a1.spines[\"top\"].set_alpha(0.75)\n",
    "a1.spines[\"top\"].set_color('gray')\n",
    "a1.spines[\"bottom\"].set_linestyle(LINE_STYLE)\n",
    "a1.spines[\"bottom\"].set_alpha(0.75)\n",
    "a1.spines[\"bottom\"].set_color('gray')\n",
    "\n",
    "dummy.axis('off')\n",
    "dummy.spines['left'].set_visible(False)\n",
    "dummy.spines['top'].set_visible(False)\n",
    "dummy.spines['right'].set_visible(False)\n",
    "dummy.spines['bottom'].set_visible(False)\n",
    "\n",
    "f.legend(loc='upper center', frameon=False, fontsize=FONT_SIZE, ncol=3,\n",
    "              bbox_to_anchor=[0.48,1.3])\n",
    "\n",
    "plt.subplots_adjust(top=1.0)\n",
    "# plt.tight_layout()\n",
    "\n",
    "if (SAVE_FIG):\n",
    "  plt.savefig(reservation_out_dir + 'parameters.pdf', bbox_inches='tight')\n",
    "plt.show()"
   ]
  },
  {
   "cell_type": "code",
   "execution_count": null,
   "metadata": {},
   "outputs": [],
   "source": []
  }
 ],
 "metadata": {
  "kernelspec": {
   "display_name": "Python 3.8.1 ('GenericEnvPy38')",
   "language": "python",
   "name": "python3"
  },
  "language_info": {
   "codemirror_mode": {
    "name": "ipython",
    "version": 3
   },
   "file_extension": ".py",
   "mimetype": "text/x-python",
   "name": "python",
   "nbconvert_exporter": "python",
   "pygments_lexer": "ipython3",
   "version": "3.8.1"
  },
  "orig_nbformat": 4,
  "vscode": {
   "interpreter": {
    "hash": "f4b6bab5f7aa17c11786266d6dd4272784ecf697c3c2eb31a5abc96168516cbe"
   }
  }
 },
 "nbformat": 4,
 "nbformat_minor": 2
}
